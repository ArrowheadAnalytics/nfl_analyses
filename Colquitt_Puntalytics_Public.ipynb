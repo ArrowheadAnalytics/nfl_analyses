{
 "cells": [
  {
   "cell_type": "markdown",
   "metadata": {},
   "source": [
    "## Load the data"
   ]
  },
  {
   "cell_type": "code",
   "execution_count": null,
   "metadata": {},
   "outputs": [],
   "source": [
    "# !pip install adjustText\n",
    "import pandas as pd\n",
    "import seaborn as sns\n",
    "import numpy as np\n",
    "import matplotlib.pyplot as plt\n",
    "import os\n",
    "import scipy\n",
    "import urllib.request\n",
    "from matplotlib.offsetbox import OffsetImage, AnnotationBbox\n",
    "import matplotlib as mpl\n",
    "from scipy.interpolate import make_interp_spline, BSpline\n",
    "from adjustText import adjust_text\n",
    "\n",
    "pd.set_option('mode.chained_assignment', None)\n",
    "%config InlineBackend.figure_format = 'retina'"
   ]
  },
  {
   "cell_type": "code",
   "execution_count": null,
   "metadata": {},
   "outputs": [],
   "source": [
    "colors = {\n",
    "    'ARI':'#97233F',\n",
    "    'ATL':'#A71930',\n",
    "    'BAL':'#241773',\n",
    "    'BUF':'#00338D',\n",
    "    'CAR':'#0085CA',\n",
    "    'CHI':'#C83803',\n",
    "    'CIN':'#FB4F14',\n",
    "    'CLE':'#311D00',\n",
    "    'DAL':'#041E42',\n",
    "    'DEN':'#FB4F14',\n",
    "    'DET':'#0076B6',\n",
    "    'GB' :'#203731',\n",
    "    'HOU':'#03202F',\n",
    "    'IND':'#002C5F',\n",
    "    'JAX':'#006778',\n",
    "    'JAC':'#006778',\n",
    "    'KC' :'#E31837',\n",
    "    'LAC':'#0080C6',\n",
    "    'SD':'#0080C6',\n",
    "    'LAR':'#866D4B',\n",
    "    'LA':'#866D4B',\n",
    "    'STL':'#866D4B',\n",
    "    'MIA':'#008E97',\n",
    "    'MIN':'#4F2683',\n",
    "    'NE' :'#002244',\n",
    "    'NO' :'#D3BC8D',\n",
    "    'NYG':'#0B2265',\n",
    "    'NYJ':'#125740',\n",
    "    'OAK':'#A5ACAF',\n",
    "    'PHI':'#004C54',\n",
    "    'PIT':'#FFB612',\n",
    "    'SEA':'#69BE28',\n",
    "    'SF' :'#AA0000',\n",
    "    'TB' :'#D50A0A',\n",
    "    'TEN':'#0C2340',\n",
    "    'WAS':'#773141'\n",
    "}\n",
    "\n",
    "kc_p = '#E31837'\n",
    "kc_s = '#FFB81C'"
   ]
  },
  {
   "cell_type": "code",
   "execution_count": null,
   "metadata": {},
   "outputs": [],
   "source": [
    "#You can find csvs of play by play data here: https://github.com/guga31bb/nflfastR-data/tree/master/data\n",
    "#I've got a huge working csv with all seasons appended together, which is too big to upload to github\n",
    "df = pd.read(FILENAME)"
   ]
  },
  {
   "cell_type": "code",
   "execution_count": null,
   "metadata": {},
   "outputs": [],
   "source": [
    "df.head(10)"
   ]
  },
  {
   "cell_type": "code",
   "execution_count": null,
   "metadata": {},
   "outputs": [],
   "source": [
    "#I always forget column names - and there's a lot of them - so I like to list them before I start analyzing\n",
    "list(df)"
   ]
  },
  {
   "cell_type": "markdown",
   "metadata": {},
   "source": [
    "## Colquit - EPA and WPA Analysis"
   ]
  },
  {
   "cell_type": "code",
   "execution_count": null,
   "metadata": {},
   "outputs": [],
   "source": [
    "#Some columns we may be interested in for this analysis are:\n",
    "    #yardline_100 (field position)\n",
    "    #epa,wpa,#yards\n",
    "    #punt_blocked,punt_inside_twenty,\n",
    "    #punter_player_name,\n",
    "    #roof_type\n",
    "    #posteam,\n",
    "    #gameid,\n",
    "    #season\n",
    "    #week\n",
    "    #play_id\n",
    "    #season_type\n",
    "    \n",
    "#let's create a new, smaller dataframe to work with, with just these columns\n",
    "columns = ['punter_player_name','yardline_100',\n",
    "           'epa','wpa','yards',\n",
    "           'return_yards',\n",
    "           'punt_blocked',\n",
    "           'punt_inside_twenty',\n",
    "           'roof_type',\n",
    "          'posteam','defteam',\n",
    "           'game_id',\n",
    "          'season','week',\n",
    "          'play_id','season_type',]\n",
    "\n",
    "punt_df = df[columns].loc[(df['play_type']=='punt')]\n",
    "\n",
    "punt_df.head(10)"
   ]
  },
  {
   "cell_type": "code",
   "execution_count": null,
   "metadata": {},
   "outputs": [],
   "source": [
    "#Let's do a quick look at which punters have the highest EPA and WPA - only including punters with at least 150 attempts\n",
    "punters = punt_df.groupby(by=['punter_player_name'])['epa','wpa','punt_inside_twenty','yards'].sum()\n",
    "#Get number of attempts\n",
    "punters['attempts'] = punt_df.groupby(by=['punter_player_name'])['epa'].count()\n",
    "#Get team abbr for the team the punter had the most punts for\n",
    "punters['team'] = punt_df.groupby(['punter_player_name'])['posteam'].agg(pd.Series.mode)\n",
    "#limit to 150 attempts\n",
    "punters = punters.loc[(punters['attempts']>150)]\n",
    "punters.reset_index(inplace=True)\n",
    "#sort by wpa, only show top 20\n",
    "punters.sort_values(by='wpa',ascending=False).head(20)"
   ]
  },
  {
   "cell_type": "code",
   "execution_count": null,
   "metadata": {},
   "outputs": [],
   "source": [
    "#Quick visualization of this\n",
    "plt.style.use('seaborn-talk')\n",
    "plt.style.use('fivethirtyeight')\n",
    "\n",
    "#remove outlier for plotting purposes\n",
    "punters = punters.loc[(punters['punter_player_name']!='A.Podlesh')]\n",
    "\n",
    "#plot our punters, looping to get a different color for each\n",
    "for index,punter in punters.iterrows():\n",
    "    plt.scatter(punter['wpa']*100, punter['epa'], c=colors[punter['team']], \n",
    "                s=punter['attempts']*.5, alpha=0.8)\n",
    "\n",
    "    plt.annotate(punter['punter_player_name'], (punter['wpa']*100,punter['epa']),\n",
    "                textcoords=\"offset points\", # how to position the text\n",
    "                 xytext=(0,12), # distance from text to points (x,y)\n",
    "                 ha='center',fontsize = 11)\n",
    "    \n",
    "\n",
    "#Graph lables\n",
    "plt.title('Punter Total Expected Points & Win Probability Added since 2000\\n')\n",
    "plt.ylabel('Total Expected Points Added\\n')\n",
    "plt.xlabel('\\nTotal Win Probability Added')"
   ]
  },
  {
   "cell_type": "code",
   "execution_count": null,
   "metadata": {},
   "outputs": [],
   "source": [
    "#Look at how these numbers compare to other KC players\n",
    "kc_qbs = df.loc[(df['posteam']=='KC')].groupby(by='passer_player_name')['epa','wpa'].sum()\n",
    "kc_qbs.sort_values(by='epa', ascending=False).head(10)"
   ]
  },
  {
   "cell_type": "code",
   "execution_count": null,
   "metadata": {},
   "outputs": [],
   "source": [
    "#Look at how these numbers compare to other KC players\n",
    "kc_qbs = df.loc[(df['posteam']=='KC')].groupby(by='receiver_player_name')['epa','wpa'].sum()\n",
    "kc_qbs.sort_values(by='epa', ascending=False).head(20)"
   ]
  },
  {
   "cell_type": "code",
   "execution_count": null,
   "metadata": {},
   "outputs": [],
   "source": [
    "#Look at how these numbers compare to other KC players\n",
    "kc_qbs = df.loc[(df['posteam']=='KC')].groupby(by='rusher_player_name')['epa','wpa'].sum()\n",
    "kc_qbs.sort_values(by='epa', ascending=False).head(10)"
   ]
  },
  {
   "cell_type": "markdown",
   "metadata": {},
   "source": [
    " ## Punting Yards Over Expectation Model"
   ]
  },
  {
   "cell_type": "code",
   "execution_count": null,
   "metadata": {},
   "outputs": [],
   "source": [
    "#look at how field position effects punting yards and epa\n",
    "punt_fp = punt_df.groupby(by='yardline_100')['yards','epa'].mean()\n",
    "#Plot of punt yards by field postion\n",
    "plt.scatter(punt_fp.index,punt_fp.yards,c='k')\n",
    "\n",
    "plt.title('Average Net Punt Yards by Field Position\\n')\n",
    "plt.ylabel('Net Punt Yards\\n')\n",
    "plt.xlabel('\\nField Position (measured from opponent end zone)')"
   ]
  },
  {
   "cell_type": "markdown",
   "metadata": {},
   "source": [
    "Looks like a polynomial regression would be good here - quadratic should be fine"
   ]
  },
  {
   "cell_type": "code",
   "execution_count": null,
   "metadata": {},
   "outputs": [],
   "source": [
    "#imports\n",
    "from sklearn.linear_model import LinearRegression \n",
    "from sklearn.preprocessing import PolynomialFeatures \n",
    "#Get our data\n",
    "X = punt_df['yardline_100'].values.reshape(-1,1)\n",
    "y = punt_df['yards'].values\n",
    "\n",
    "poly = PolynomialFeatures(degree = 2) \n",
    "X_poly = poly.fit_transform(X) \n",
    "  \n",
    "poly.fit(X_poly, y) \n",
    "lin2 = LinearRegression() \n",
    "lin2.fit(X_poly, y) "
   ]
  },
  {
   "cell_type": "code",
   "execution_count": null,
   "metadata": {},
   "outputs": [],
   "source": [
    "field_position = np.linspace(0,100,101).reshape(-1,1)\n",
    "plt.plot(field_position, lin2.predict(poly.fit_transform(field_position)), color = 'red') \n",
    "plt.scatter(punt_fp.index,punt_fp.yards,c='k')"
   ]
  },
  {
   "cell_type": "markdown",
   "metadata": {},
   "source": [
    "Looks good to me!"
   ]
  },
  {
   "cell_type": "code",
   "execution_count": null,
   "metadata": {},
   "outputs": [],
   "source": [
    "#Let's add this column to our punts dataframe\n",
    "punt_df['exp_punt_yds'] = lin2.predict(poly.fit_transform(punt_df['yardline_100'].values.reshape(-1,1)))\n",
    "punt_df['pyoe'] = punt_df['yards'] - punt_df['exp_punt_yds']"
   ]
  },
  {
   "cell_type": "code",
   "execution_count": null,
   "metadata": {},
   "outputs": [],
   "source": [
    "#group punters to find best punter by pyoe\n",
    "punters = punt_df.groupby(by=['punter_player_name'])['yards','pyoe'].mean()\n",
    "#Get number of attempts\n",
    "punters['attempts'] = punt_df.groupby(by=['punter_player_name'])['epa'].count()\n",
    "#Get team abbr for the team the punter had the most punts for\n",
    "punters['team'] = punt_df.groupby(['punter_player_name'])['posteam'].agg(pd.Series.mode)\n",
    "punters['total_pyoe'] = punt_df.groupby(by=['punter_player_name'])['pyoe'].sum()\n",
    "#limit to 150 attempts\n",
    "punters = punters.loc[(punters['attempts']>150)]\n",
    "\n",
    "#sort by pyoe, only show top 20\n",
    "punters.sort_values(by='pyoe',ascending=False,inplace=True)\n",
    "punters.reset_index(inplace=True)\n",
    "punters.head(20)"
   ]
  },
  {
   "cell_type": "code",
   "execution_count": null,
   "metadata": {},
   "outputs": [],
   "source": [
    "#Quick visualization of this\n",
    "plt.style.use('seaborn-talk')\n",
    "plt.style.use('fivethirtyeight')\n",
    "\n",
    "#plot our punters, looping to get a different color for each\n",
    "for index,punter in punters.iterrows():\n",
    "    plt.scatter(punter['pyoe'], punter['total_pyoe'], c=colors[punter['team']], \n",
    "                s=punter['attempts']*.5, alpha=0.8)\n",
    "\n",
    "    plt.annotate(punter['punter_player_name'], \n",
    "                 (punter['pyoe'],punter['total_pyoe']),\n",
    "                textcoords=\"offset points\", # how to position the text\n",
    "                 xytext=(0,12), # distance from text to points (x,y)\n",
    "                 ha='center',fontsize = 11)\n",
    "    \n",
    "\n",
    "#Graph lables\n",
    "plt.title('Punter Total and Average Punt Yards Over Expectation (PYOE) Since 2000\\n')\n",
    "plt.ylabel('Total Punt Yards Over Expectation\\n')\n",
    "plt.xlabel('\\nAverage Punt Yards Over Expectation')"
   ]
  },
  {
   "cell_type": "code",
   "execution_count": null,
   "metadata": {},
   "outputs": [],
   "source": []
  }
 ],
 "metadata": {
  "kernelspec": {
   "display_name": "Python 3",
   "language": "python",
   "name": "python3"
  },
  "language_info": {
   "codemirror_mode": {
    "name": "ipython",
    "version": 3
   },
   "file_extension": ".py",
   "mimetype": "text/x-python",
   "name": "python",
   "nbconvert_exporter": "python",
   "pygments_lexer": "ipython3",
   "version": "3.6.10"
  }
 },
 "nbformat": 4,
 "nbformat_minor": 2
}
