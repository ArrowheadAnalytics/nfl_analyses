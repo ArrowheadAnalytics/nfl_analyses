{
 "cells": [
  {
   "cell_type": "code",
   "execution_count": 6,
   "metadata": {},
   "outputs": [],
   "source": [
    "import pandas as pd\n",
    "import numpy as np"
   ]
  },
  {
   "cell_type": "code",
   "execution_count": 7,
   "metadata": {
    "scrolled": true
   },
   "outputs": [],
   "source": [
    "data = pd.read_csv(FILENAME, low_memory=False)"
   ]
  },
  {
   "cell_type": "code",
   "execution_count": 10,
   "metadata": {},
   "outputs": [],
   "source": [
    "#Variables we care about\n",
    "variables = ['epa','air_yards','cpoe','wpa']\n",
    "\n",
    "#Groupby passer name, season, team\n",
    "qbs = data.groupby(by=['passer_player_name','season','posteam'])[variables].mean()\n",
    "#Get a couple of other variables that aren't averages\n",
    "qbs['std_epa'] = data.groupby(by=['passer_player_name','season','posteam'])['epa'].std()\n",
    "qbs['attempts'] = data.groupby(by=['passer_player_name','season','posteam'])['epa'].count()\n",
    "#Only use QBs with over 128 attempts in a year (NGS uses this cutoff)\n",
    "qbs = qbs.loc[qbs['attempts']>=128]\n",
    "#reset the index so passer_player_name is a column and not an index\n",
    "qbs.reset_index(inplace=True)\n",
    "#Only get QBs who have more than one season of data (or there's nothing to correlate!)\n",
    "qbs = qbs[qbs.groupby('passer_player_name').passer_player_name.transform('count') > 1]"
   ]
  },
  {
   "cell_type": "code",
   "execution_count": 13,
   "metadata": {},
   "outputs": [],
   "source": [
    "#Shift the QB variables by 1 row for each QB\n",
    "lqbs = qbs.groupby(by='passer_player_name').shift(-1)\n",
    "#rename QB columns so we can join them\n",
    "qbs.columns = ['passer_player_name','prev_season',\n",
    "               'prev_posteam','prev_epa',\n",
    "               'prev_air_yards',\n",
    "               'prev_cpoe',\n",
    "               'prev_wpa',\n",
    "               'prev_std_epa',\n",
    "               'prev_attempts']\n",
    "#Join the lagged variables with the original dataframe\n",
    "new_qbs = pd.concat((qbs,lqbs),axis=1).dropna(subset=['season'])"
   ]
  },
  {
   "cell_type": "code",
   "execution_count": 19,
   "metadata": {},
   "outputs": [
    {
     "data": {
      "text/html": [
       "<div>\n",
       "<style scoped>\n",
       "    .dataframe tbody tr th:only-of-type {\n",
       "        vertical-align: middle;\n",
       "    }\n",
       "\n",
       "    .dataframe tbody tr th {\n",
       "        vertical-align: top;\n",
       "    }\n",
       "\n",
       "    .dataframe thead th {\n",
       "        text-align: right;\n",
       "    }\n",
       "</style>\n",
       "<table border=\"1\" class=\"dataframe\">\n",
       "  <thead>\n",
       "    <tr style=\"text-align: right;\">\n",
       "      <th></th>\n",
       "      <th>season</th>\n",
       "      <th>epa</th>\n",
       "      <th>air_yards</th>\n",
       "      <th>cpoe</th>\n",
       "      <th>wpa</th>\n",
       "      <th>std_epa</th>\n",
       "      <th>attempts</th>\n",
       "    </tr>\n",
       "  </thead>\n",
       "  <tbody>\n",
       "    <tr>\n",
       "      <th>prev_season</th>\n",
       "      <td>0.984138</td>\n",
       "      <td>0.145377</td>\n",
       "      <td>-0.125710</td>\n",
       "      <td>0.141899</td>\n",
       "      <td>0.185365</td>\n",
       "      <td>-0.209164</td>\n",
       "      <td>0.074739</td>\n",
       "    </tr>\n",
       "    <tr>\n",
       "      <th>prev_epa</th>\n",
       "      <td>0.141333</td>\n",
       "      <td>0.438611</td>\n",
       "      <td>-0.050306</td>\n",
       "      <td>0.412530</td>\n",
       "      <td>0.422899</td>\n",
       "      <td>-0.116292</td>\n",
       "      <td>0.453745</td>\n",
       "    </tr>\n",
       "    <tr>\n",
       "      <th>prev_air_yards</th>\n",
       "      <td>-0.022697</td>\n",
       "      <td>-0.085281</td>\n",
       "      <td>0.377505</td>\n",
       "      <td>-0.087875</td>\n",
       "      <td>-0.040237</td>\n",
       "      <td>0.108257</td>\n",
       "      <td>-0.022331</td>\n",
       "    </tr>\n",
       "    <tr>\n",
       "      <th>prev_cpoe</th>\n",
       "      <td>0.102638</td>\n",
       "      <td>0.406973</td>\n",
       "      <td>-0.039395</td>\n",
       "      <td>0.479885</td>\n",
       "      <td>0.418654</td>\n",
       "      <td>-0.043149</td>\n",
       "      <td>0.358892</td>\n",
       "    </tr>\n",
       "    <tr>\n",
       "      <th>prev_wpa</th>\n",
       "      <td>0.136250</td>\n",
       "      <td>0.375219</td>\n",
       "      <td>-0.042203</td>\n",
       "      <td>0.375475</td>\n",
       "      <td>0.384797</td>\n",
       "      <td>-0.103845</td>\n",
       "      <td>0.410943</td>\n",
       "    </tr>\n",
       "    <tr>\n",
       "      <th>prev_std_epa</th>\n",
       "      <td>-0.189344</td>\n",
       "      <td>-0.077922</td>\n",
       "      <td>0.151595</td>\n",
       "      <td>-0.050307</td>\n",
       "      <td>-0.012301</td>\n",
       "      <td>0.217870</td>\n",
       "      <td>-0.036583</td>\n",
       "    </tr>\n",
       "    <tr>\n",
       "      <th>prev_attempts</th>\n",
       "      <td>0.031066</td>\n",
       "      <td>0.427325</td>\n",
       "      <td>-0.071535</td>\n",
       "      <td>0.306384</td>\n",
       "      <td>0.372899</td>\n",
       "      <td>-0.110426</td>\n",
       "      <td>0.550554</td>\n",
       "    </tr>\n",
       "  </tbody>\n",
       "</table>\n",
       "</div>"
      ],
      "text/plain": [
       "                  season       epa  air_yards      cpoe       wpa   std_epa  \\\n",
       "prev_season     0.984138  0.145377  -0.125710  0.141899  0.185365 -0.209164   \n",
       "prev_epa        0.141333  0.438611  -0.050306  0.412530  0.422899 -0.116292   \n",
       "prev_air_yards -0.022697 -0.085281   0.377505 -0.087875 -0.040237  0.108257   \n",
       "prev_cpoe       0.102638  0.406973  -0.039395  0.479885  0.418654 -0.043149   \n",
       "prev_wpa        0.136250  0.375219  -0.042203  0.375475  0.384797 -0.103845   \n",
       "prev_std_epa   -0.189344 -0.077922   0.151595 -0.050307 -0.012301  0.217870   \n",
       "prev_attempts   0.031066  0.427325  -0.071535  0.306384  0.372899 -0.110426   \n",
       "\n",
       "                attempts  \n",
       "prev_season     0.074739  \n",
       "prev_epa        0.453745  \n",
       "prev_air_yards -0.022331  \n",
       "prev_cpoe       0.358892  \n",
       "prev_wpa        0.410943  \n",
       "prev_std_epa   -0.036583  \n",
       "prev_attempts   0.550554  "
      ]
     },
     "execution_count": 19,
     "metadata": {},
     "output_type": "execute_result"
    }
   ],
   "source": [
    "#correlation matrices are an overload to me, so I simplify them when I can\n",
    "new_qbs.corr(method='pearson').iloc[0:7,7:]"
   ]
  },
  {
   "cell_type": "code",
   "execution_count": null,
   "metadata": {},
   "outputs": [],
   "source": []
  }
 ],
 "metadata": {
  "kernelspec": {
   "display_name": "Python 3",
   "language": "python",
   "name": "python3"
  },
  "language_info": {
   "codemirror_mode": {
    "name": "ipython",
    "version": 3
   },
   "file_extension": ".py",
   "mimetype": "text/x-python",
   "name": "python",
   "nbconvert_exporter": "python",
   "pygments_lexer": "ipython3",
   "version": "3.6.8"
  }
 },
 "nbformat": 4,
 "nbformat_minor": 2
}
