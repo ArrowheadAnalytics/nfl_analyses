{
 "cells": [
  {
   "cell_type": "markdown",
   "metadata": {},
   "source": [
    "# Initialize and cleaning of play-by-play data"
   ]
  },
  {
   "cell_type": "markdown",
   "metadata": {},
   "source": [
    "## Load the data"
   ]
  },
  {
   "cell_type": "code",
   "execution_count": null,
   "metadata": {},
   "outputs": [],
   "source": [
    "import pandas as pd\n",
    "import seaborn as sns\n",
    "import numpy as np\n",
    "import matplotlib.pyplot as plt\n",
    "import os\n",
    "import scipy\n",
    "import urllib.request\n",
    "from matplotlib.offsetbox import OffsetImage, AnnotationBbox\n",
    "import matplotlib as mpl\n",
    "from scipy.interpolate import make_interp_spline, BSpline\n",
    "from adjustText import adjust_text\n",
    "\n",
    "%config InlineBackend.figure_format = 'retina'"
   ]
  },
  {
   "cell_type": "code",
   "execution_count": null,
   "metadata": {},
   "outputs": [],
   "source": [
    "#I hardcode team colors because I'm a rube\n",
    "colors = {\n",
    "    'ARI':'#97233F',\n",
    "    'ATL':'#A71930',\n",
    "    'BAL':'#241773',\n",
    "    'BUF':'#00338D',\n",
    "    'CAR':'#0085CA',\n",
    "    'CHI':'#C83803',\n",
    "    'CIN':'#FB4F14',\n",
    "    'CLE':'#311D00',\n",
    "    'DAL':'#041E42',\n",
    "    'DEN':'#FB4F14',\n",
    "    'DET':'#0076B6',\n",
    "    'GB' :'#203731',\n",
    "    'HOU':'#03202F',\n",
    "    'IND':'#002C5F',\n",
    "    'JAX':'#006778',\n",
    "    'KC' :'#E31837',\n",
    "    'LAC':'#0080C6',\n",
    "    'LAR':'#866D4B',\n",
    "    'MIA':'#008E97',\n",
    "    'MIN':'#4F2683',\n",
    "    'NE' :'#002244',\n",
    "    'NO' :'#D3BC8D',\n",
    "    'NYG':'#0B2265',\n",
    "    'NYJ':'#125740',\n",
    "    'OAK':'#A5ACAF',\n",
    "    'PHI':'#004C54',\n",
    "    'PIT':'#FFB612',\n",
    "    'SEA':'#69BE28',\n",
    "    'SF' :'#AA0000',\n",
    "    'TB' :'#D50A0A',\n",
    "    'TEN':'#0C2340',\n",
    "    'WAS':'#773141'\n",
    "}\n",
    "\n",
    "kc_p = '#E31837'\n",
    "kc_s = '#FFB81C'"
   ]
  },
  {
   "cell_type": "code",
   "execution_count": null,
   "metadata": {
    "scrolled": true
   },
   "outputs": [],
   "source": [
    "#load in data\n",
    "data = pd.read_csv('clean_pbp_2019_wk19.csv')"
   ]
  },
  {
   "cell_type": "code",
   "execution_count": null,
   "metadata": {},
   "outputs": [],
   "source": [
    "#Get all Derrick Henry runs\n",
    "henry_games = data.loc[(data['posteam']=='TEN') & (data['rusher_player_name']=='D.Henry')]\n",
    "#Get a list of the game id for each run\n",
    "henry_game_list = henry_games['alt_game_id'].unique()"
   ]
  },
  {
   "cell_type": "code",
   "execution_count": null,
   "metadata": {},
   "outputs": [],
   "source": [
    "#Loop through the games, identifying which run of the game that run was\n",
    "game_runs = pd.DataFrame()\n",
    "for game in henry_game_list:\n",
    "    df = henry_games.loc[(henry_games['alt_game_id']==game)]\n",
    "    df.reset_index(inplace=True)\n",
    "    df.reset_index(inplace=True)\n",
    "    df.rename(columns={'level_0':'run_attempt_count'},inplace=True)\n",
    "    game_runs = pd.concat((game_runs,df))\n",
    "    \n",
    "#group by run attempt numbers    \n",
    "henry = game_runs.groupby(by='run_attempt_count')['epa','yards_gained','success'].mean()\n",
    "henry['n_games'] = game_runs.groupby(by='run_attempt_count')['epa'].count()\n",
    "henry"
   ]
  },
  {
   "cell_type": "code",
   "execution_count": null,
   "metadata": {},
   "outputs": [],
   "source": [
    "#Plot\n",
    "plt.style.use('seaborn-talk')\n",
    "plt.style.use('fivethirtyeight')\n",
    "\n",
    "x=henry.index\n",
    "y=henry.epa\n",
    "y2=henry.yards_gained\n",
    "y3=henry.success\n",
    "size=henry.n_games\n",
    "plt.scatter(x,y,s=size*20, c=colors['TEN'], label='# of carries at that attempt number' )\n",
    "plt.title('Does Derrick Henry get \"in a rhythm\"?')\n",
    "plt.ylabel('Expected Points Added Per Carry')\n",
    "plt.xlabel('Rush Attempt Number')\n",
    "plt.legend()\n",
    "txt= \"Data: nflscrapR | Chart: Ethan Douglas @chiefsanalytics\"\n",
    "plt.figtext(0.1, -0.05, txt, wrap=True, horizontalalignment='left', fontsize=12)\n",
    "plt.legend(fontsize=12)"
   ]
  },
  {
   "cell_type": "code",
   "execution_count": null,
   "metadata": {},
   "outputs": [],
   "source": [
    "plt.scatter(x,y2,s=size*20, c='#4b92db', label='# of carries at that attempt number' )\n",
    "plt.title('Does Derrick Henry get \"in a rhythm\"?')\n",
    "plt.ylabel('Yards Per Carry')\n",
    "plt.xlabel('Rush Attempt Number')\n",
    "plt.legend()\n",
    "txt= \"Data: nflscrapR | Chart: Ethan Douglas @chiefsanalytics\"\n",
    "plt.figtext(0.1, -0.05, txt, wrap=True, horizontalalignment='left', fontsize=12)\n",
    "plt.legend(fontsize=12)"
   ]
  }
 ],
 "metadata": {
  "kernelspec": {
   "display_name": "Python 3",
   "language": "python",
   "name": "python3"
  },
  "language_info": {
   "codemirror_mode": {
    "name": "ipython",
    "version": 3
   },
   "file_extension": ".py",
   "mimetype": "text/x-python",
   "name": "python",
   "nbconvert_exporter": "python",
   "pygments_lexer": "ipython3",
   "version": "3.6.8"
  }
 },
 "nbformat": 4,
 "nbformat_minor": 2
}
